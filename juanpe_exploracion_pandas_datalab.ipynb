{
 "cells": [
  {
   "cell_type": "markdown",
   "metadata": {},
   "source": [
    "## preguntar por PostGres entorno -  cargamos el pandas "
   ]
  },
  {
   "cell_type": "code",
   "execution_count": 1,
   "metadata": {
    "collapsed": true
   },
   "outputs": [],
   "source": [
    "import pandas as pd\n",
    "import numpy as np"
   ]
  },
  {
   "cell_type": "markdown",
   "metadata": {},
   "source": [
    "para poder pintar con plot pylab #esto permite a pandas pintar en el notebook "
   ]
  },
  {
   "cell_type": "code",
   "execution_count": 2,
   "metadata": {},
   "outputs": [
    {
     "name": "stdout",
     "output_type": "stream",
     "text": [
      "Populating the interactive namespace from numpy and matplotlib\n"
     ]
    }
   ],
   "source": [
    "%pylab inline "
   ]
  },
  {
   "cell_type": "code",
   "execution_count": 3,
   "metadata": {
    "collapsed": true
   },
   "outputs": [],
   "source": [
    "train = pd.read_csv('C:/Users/Juanpe/MachineLearningTest/data/train.csv')\n",
    "test = pd.read_csv('C:/Users/Juanpe/MachineLearningTest/data/test.csv')"
   ]
  },
  {
   "cell_type": "code",
   "execution_count": null,
   "metadata": {},
   "outputs": [],
   "source": [
    "train.head(5)"
   ]
  },
  {
   "cell_type": "code",
   "execution_count": null,
   "metadata": {},
   "outputs": [],
   "source": [
    "list(train)"
   ]
  },
  {
   "cell_type": "code",
   "execution_count": null,
   "metadata": {
    "collapsed": true
   },
   "outputs": [],
   "source": [
    "train.age.plot()"
   ]
  },
  {
   "cell_type": "code",
   "execution_count": null,
   "metadata": {
    "collapsed": true
   },
   "outputs": [],
   "source": [
    "train['age'].hist()"
   ]
  },
  {
   "cell_type": "code",
   "execution_count": null,
   "metadata": {
    "collapsed": true
   },
   "outputs": [],
   "source": [
    "train.hist(figsize=(20,20))"
   ]
  },
  {
   "cell_type": "code",
   "execution_count": null,
   "metadata": {
    "collapsed": true
   },
   "outputs": [],
   "source": [
    "train.boxplot('age')"
   ]
  },
  {
   "cell_type": "code",
   "execution_count": null,
   "metadata": {
    "collapsed": true
   },
   "outputs": [],
   "source": [
    "train.describe()"
   ]
  },
  {
   "cell_type": "code",
   "execution_count": null,
   "metadata": {
    "collapsed": true
   },
   "outputs": [],
   "source": [
    "train.iloc[21,2]"
   ]
  },
  {
   "cell_type": "code",
   "execution_count": null,
   "metadata": {
    "collapsed": true
   },
   "outputs": [],
   "source": [
    "train.loc[21,'age']"
   ]
  },
  {
   "cell_type": "code",
   "execution_count": null,
   "metadata": {
    "collapsed": true
   },
   "outputs": [],
   "source": [
    "train.shape"
   ]
  },
  {
   "cell_type": "code",
   "execution_count": null,
   "metadata": {
    "collapsed": true
   },
   "outputs": [],
   "source": [
    "train.info()"
   ]
  },
  {
   "cell_type": "code",
   "execution_count": 4,
   "metadata": {
    "collapsed": true
   },
   "outputs": [],
   "source": [
    "nrow = train.shape[0]"
   ]
  },
  {
   "cell_type": "code",
   "execution_count": null,
   "metadata": {},
   "outputs": [],
   "source": [
    "len(train)"
   ]
  },
  {
   "cell_type": "code",
   "execution_count": null,
   "metadata": {
    "collapsed": true
   },
   "outputs": [],
   "source": [
    "train.num.unique()"
   ]
  },
  {
   "cell_type": "markdown",
   "metadata": {},
   "source": [
    "vamos a hacer un for"
   ]
  },
  {
   "cell_type": "code",
   "execution_count": 5,
   "metadata": {
    "collapsed": true
   },
   "outputs": [],
   "source": [
    "for i in range(nrow):\n",
    "    if train['num'][i] != 0:\n",
    "        train.loc[i,'num'] = 1\n",
    "        "
   ]
  },
  {
   "cell_type": "code",
   "execution_count": null,
   "metadata": {
    "collapsed": true
   },
   "outputs": [],
   "source": [
    "train"
   ]
  },
  {
   "cell_type": "code",
   "execution_count": null,
   "metadata": {},
   "outputs": [],
   "source": [
    "range(nrow)"
   ]
  },
  {
   "cell_type": "code",
   "execution_count": null,
   "metadata": {
    "collapsed": true
   },
   "outputs": [],
   "source": [
    "train['num'][train['num']!=0]"
   ]
  },
  {
   "cell_type": "code",
   "execution_count": null,
   "metadata": {
    "collapsed": true
   },
   "outputs": [],
   "source": [
    "\n",
    "    "
   ]
  },
  {
   "cell_type": "code",
   "execution_count": null,
   "metadata": {
    "collapsed": true
   },
   "outputs": [],
   "source": [
    "train.loc[2,'num']"
   ]
  },
  {
   "cell_type": "code",
   "execution_count": null,
   "metadata": {
    "collapsed": true
   },
   "outputs": [],
   "source": [
    "train"
   ]
  },
  {
   "cell_type": "code",
   "execution_count": null,
   "metadata": {
    "collapsed": true
   },
   "outputs": [],
   "source": []
  },
  {
   "cell_type": "code",
   "execution_count": null,
   "metadata": {
    "collapsed": true
   },
   "outputs": [],
   "source": [
    "train[train['num']!=0]"
   ]
  },
  {
   "cell_type": "markdown",
   "metadata": {},
   "source": [
    "## Preprocessing "
   ]
  },
  {
   "cell_type": "markdown",
   "metadata": {},
   "source": [
    "http://scikit-learn.org/stable/modules/preprocessing.html#imputation-of-missing-values"
   ]
  },
  {
   "cell_type": "markdown",
   "metadata": {},
   "source": [
    "#nos saltamos la estandarización\n",
    "#vemos valores Nan"
   ]
  },
  {
   "cell_type": "code",
   "execution_count": null,
   "metadata": {
    "collapsed": true
   },
   "outputs": [],
   "source": [
    "pd.isnull(train).any(1).nonzero()[0]"
   ]
  },
  {
   "cell_type": "code",
   "execution_count": null,
   "metadata": {
    "collapsed": true
   },
   "outputs": [],
   "source": [
    "train.iloc[pd.isnull(train).any(1).nonzero()[0]]"
   ]
  },
  {
   "cell_type": "code",
   "execution_count": null,
   "metadata": {
    "collapsed": true
   },
   "outputs": [],
   "source": [
    "train.loc[[87, 166, 192],:]"
   ]
  },
  {
   "cell_type": "markdown",
   "metadata": {},
   "source": [
    "#pillamos la librería q imputa valores"
   ]
  },
  {
   "cell_type": "code",
   "execution_count": 6,
   "metadata": {
    "collapsed": true
   },
   "outputs": [],
   "source": [
    "train = train.fillna(train.mean())#forma simplificada de Juan"
   ]
  },
  {
   "cell_type": "code",
   "execution_count": null,
   "metadata": {},
   "outputs": [],
   "source": [
    "from sklearn.preprocessing import Imputer\n",
    "imp = Imputer(missing_values='NaN', strategy='mean', axis=0)\n",
    "imp.fit(train)"
   ]
  },
  {
   "cell_type": "markdown",
   "metadata": {},
   "source": [
    "nos crea una matriz sin nombres de campo, por eso lo de columns"
   ]
  },
  {
   "cell_type": "code",
   "execution_count": null,
   "metadata": {},
   "outputs": [],
   "source": [
    "train = pd.DataFrame(imp.transform(train),columns=train.columns)"
   ]
  },
  {
   "cell_type": "code",
   "execution_count": null,
   "metadata": {
    "collapsed": true
   },
   "outputs": [],
   "source": [
    "train"
   ]
  },
  {
   "cell_type": "markdown",
   "metadata": {},
   "source": [
    "## vamos a ver cada variable % sanos"
   ]
  },
  {
   "cell_type": "code",
   "execution_count": null,
   "metadata": {
    "collapsed": true
   },
   "outputs": [],
   "source": [
    "train.groupby('num').size()"
   ]
  },
  {
   "cell_type": "code",
   "execution_count": null,
   "metadata": {
    "collapsed": true
   },
   "outputs": [],
   "source": [
    "train.num.mean() #hay un 43% de enfermos"
   ]
  },
  {
   "cell_type": "code",
   "execution_count": null,
   "metadata": {
    "collapsed": true
   },
   "outputs": [],
   "source": [
    "train.sex.mean() #hay un 67% de hombres"
   ]
  },
  {
   "cell_type": "code",
   "execution_count": null,
   "metadata": {
    "collapsed": true
   },
   "outputs": [],
   "source": [
    "train.groupby('sex').agg({'num': np.mean}) #sexo importa"
   ]
  },
  {
   "cell_type": "code",
   "execution_count": null,
   "metadata": {
    "collapsed": true
   },
   "outputs": [],
   "source": [
    "train.groupby('cp').agg({'num': np.mean}) # cp importa mucho"
   ]
  },
  {
   "cell_type": "code",
   "execution_count": null,
   "metadata": {
    "collapsed": true
   },
   "outputs": [],
   "source": [
    "train.groupby('fbs').agg({'num': np.mean}) #nada castaña pilonga"
   ]
  },
  {
   "cell_type": "code",
   "execution_count": null,
   "metadata": {
    "collapsed": true
   },
   "outputs": [],
   "source": [
    "train.groupby('restecg').agg({'num': np.mean}) # importa poco"
   ]
  },
  {
   "cell_type": "code",
   "execution_count": null,
   "metadata": {
    "collapsed": true
   },
   "outputs": [],
   "source": [
    "train.groupby('exang').agg({'num': np.mean}) # importa bastante"
   ]
  },
  {
   "cell_type": "code",
   "execution_count": null,
   "metadata": {
    "collapsed": true
   },
   "outputs": [],
   "source": [
    "train.groupby('slope').agg({'num': np.mean}) # importa bastante"
   ]
  },
  {
   "cell_type": "code",
   "execution_count": null,
   "metadata": {
    "collapsed": true
   },
   "outputs": [],
   "source": [
    "train.groupby('ca').agg({'num': np.mean}) #importa demasiado!!"
   ]
  },
  {
   "cell_type": "code",
   "execution_count": null,
   "metadata": {
    "collapsed": true
   },
   "outputs": [],
   "source": [
    "train.groupby('thal').agg({'num': np.mean}) # importa bastante"
   ]
  },
  {
   "cell_type": "markdown",
   "metadata": {},
   "source": [
    "## voy a pintar un mapa de correlaciones de variables"
   ]
  },
  {
   "cell_type": "code",
   "execution_count": null,
   "metadata": {},
   "outputs": [],
   "source": [
    "#correlation map\n",
    "import seaborn as sns\n",
    "import matplotlib.pyplot as plt\n",
    "f,ax = plt.subplots(figsize=(18, 18))\n",
    "sns.heatmap(train.corr(), annot=True, linewidths=.5, fmt= '.1f',ax=ax)"
   ]
  },
  {
   "cell_type": "markdown",
   "metadata": {},
   "source": [
    "sale lo q habia visto yo con los group by!!!!!!"
   ]
  },
  {
   "cell_type": "markdown",
   "metadata": {},
   "source": [
    "http://python-apuntes.blogspot.com.es/2016/07/importancia-variables.html"
   ]
  },
  {
   "cell_type": "markdown",
   "metadata": {},
   "source": [
    "## lanzamos modelo naive bayes"
   ]
  },
  {
   "cell_type": "markdown",
   "metadata": {},
   "source": [
    "separamos los datos X, y (lo pasamos a forma matriz por Victor manía)"
   ]
  },
  {
   "cell_type": "code",
   "execution_count": 7,
   "metadata": {
    "collapsed": true
   },
   "outputs": [],
   "source": [
    "X, y = train.iloc[:,:-1].as_matrix(), train.iloc[:,-1].as_matrix()"
   ]
  },
  {
   "cell_type": "markdown",
   "metadata": {},
   "source": [
    "y tb en train y test de ambas variables"
   ]
  },
  {
   "cell_type": "code",
   "execution_count": 26,
   "metadata": {
    "collapsed": true
   },
   "outputs": [],
   "source": [
    "from sklearn.model_selection import train_test_split"
   ]
  },
  {
   "cell_type": "code",
   "execution_count": 27,
   "metadata": {
    "collapsed": true
   },
   "outputs": [],
   "source": [
    "X_train, X_test, y_train, y_test = train_test_split(X, y, test_size=0.33, random_state=42)"
   ]
  },
  {
   "cell_type": "code",
   "execution_count": null,
   "metadata": {
    "collapsed": true
   },
   "outputs": [],
   "source": [
    "X_train\n"
   ]
  },
  {
   "cell_type": "markdown",
   "metadata": {},
   "source": [
    "## lanzamos modelo. copio y pego del scikit learn la forma"
   ]
  },
  {
   "cell_type": "code",
   "execution_count": 28,
   "metadata": {},
   "outputs": [],
   "source": [
    "from sklearn.naive_bayes import GaussianNB\n",
    "gnb = GaussianNB()\n",
    "y_pred = gnb.fit(X_train, y_train).predict(X_test) \n",
    "\n",
    "#print(\"Number of mislabeled points out of a total %d points : %d\"% (X_train.shape[0],(y_train != y_pred).sum())) Number of mislabeled points out of a total 150 points : 6"
   ]
  },
  {
   "cell_type": "markdown",
   "metadata": {},
   "source": [
    "## vemos la matriz de confusión"
   ]
  },
  {
   "cell_type": "code",
   "execution_count": 29,
   "metadata": {
    "collapsed": true
   },
   "outputs": [],
   "source": [
    "from sklearn.metrics import confusion_matrix"
   ]
  },
  {
   "cell_type": "code",
   "execution_count": 30,
   "metadata": {
    "collapsed": true
   },
   "outputs": [],
   "source": [
    "# Compute confusion matrix\n",
    "cnf_matrix = confusion_matrix(y_test, y_pred)"
   ]
  },
  {
   "cell_type": "code",
   "execution_count": 41,
   "metadata": {},
   "outputs": [
    {
     "data": {
      "text/plain": [
       "array([[39,  5],\n",
       "       [ 6, 38]], dtype=int64)"
      ]
     },
     "execution_count": 41,
     "metadata": {},
     "output_type": "execute_result"
    }
   ],
   "source": [
    "cnf_matrix"
   ]
  },
  {
   "cell_type": "code",
   "execution_count": 49,
   "metadata": {},
   "outputs": [
    {
     "data": {
      "text/plain": [
       "array([39,  5,  6, 38], dtype=int64)"
      ]
     },
     "execution_count": 49,
     "metadata": {},
     "output_type": "execute_result"
    }
   ],
   "source": [
    "np.concatenate(cnf_matrix) "
   ]
  },
  {
   "cell_type": "code",
   "execution_count": 51,
   "metadata": {},
   "outputs": [
    {
     "data": {
      "text/html": [
       "<div>\n",
       "<style>\n",
       "    .dataframe thead tr:only-child th {\n",
       "        text-align: right;\n",
       "    }\n",
       "\n",
       "    .dataframe thead th {\n",
       "        text-align: left;\n",
       "    }\n",
       "\n",
       "    .dataframe tbody tr th {\n",
       "        vertical-align: top;\n",
       "    }\n",
       "</style>\n",
       "<table border=\"1\" class=\"dataframe\">\n",
       "  <thead>\n",
       "    <tr style=\"text-align: right;\">\n",
       "      <th></th>\n",
       "      <th>0</th>\n",
       "      <th>1</th>\n",
       "      <th>2</th>\n",
       "      <th>3</th>\n",
       "    </tr>\n",
       "  </thead>\n",
       "  <tbody>\n",
       "    <tr>\n",
       "      <th>0</th>\n",
       "      <td>39</td>\n",
       "      <td>5</td>\n",
       "      <td>6</td>\n",
       "      <td>38</td>\n",
       "    </tr>\n",
       "  </tbody>\n",
       "</table>\n",
       "</div>"
      ],
      "text/plain": [
       "    0  1  2   3\n",
       "0  39  5  6  38"
      ]
     },
     "execution_count": 51,
     "metadata": {},
     "output_type": "execute_result"
    }
   ],
   "source": [
    "pd.DataFrame(np.concatenate(cnf_matrix)).T  #TN FP FN TP"
   ]
  },
  {
   "cell_type": "code",
   "execution_count": 76,
   "metadata": {},
   "outputs": [
    {
     "data": {
      "text/html": [
       "<div>\n",
       "<style>\n",
       "    .dataframe thead tr:only-child th {\n",
       "        text-align: right;\n",
       "    }\n",
       "\n",
       "    .dataframe thead th {\n",
       "        text-align: left;\n",
       "    }\n",
       "\n",
       "    .dataframe tbody tr th {\n",
       "        vertical-align: top;\n",
       "    }\n",
       "</style>\n",
       "<table border=\"1\" class=\"dataframe\">\n",
       "  <thead>\n",
       "    <tr style=\"text-align: right;\">\n",
       "      <th></th>\n",
       "      <th>0</th>\n",
       "    </tr>\n",
       "  </thead>\n",
       "  <tbody>\n",
       "    <tr>\n",
       "      <th>0</th>\n",
       "      <td>39</td>\n",
       "    </tr>\n",
       "    <tr>\n",
       "      <th>1</th>\n",
       "      <td>5</td>\n",
       "    </tr>\n",
       "    <tr>\n",
       "      <th>2</th>\n",
       "      <td>6</td>\n",
       "    </tr>\n",
       "    <tr>\n",
       "      <th>3</th>\n",
       "      <td>38</td>\n",
       "    </tr>\n",
       "  </tbody>\n",
       "</table>\n",
       "</div>"
      ],
      "text/plain": [
       "    0\n",
       "0  39\n",
       "1   5\n",
       "2   6\n",
       "3  38"
      ]
     },
     "execution_count": 76,
     "metadata": {},
     "output_type": "execute_result"
    }
   ],
   "source": [
    "pd.DataFrame(np.concatenate(cnf_matrix))"
   ]
  },
  {
   "cell_type": "code",
   "execution_count": null,
   "metadata": {
    "scrolled": true
   },
   "outputs": [],
   "source": [
    "pd.DataFrame(cnf_matrix,columns=['no','si'], index=['no','si'])"
   ]
  },
  {
   "cell_type": "code",
   "execution_count": null,
   "metadata": {},
   "outputs": [],
   "source": [
    "gnb.get_params()"
   ]
  },
  {
   "cell_type": "markdown",
   "metadata": {},
   "source": [
    "## qué peso da el modelo a cada variable?  \n",
    "http://scikit-learn.org/stable/modules/generated/sklearn.naive_bayes.GaussianNB.html"
   ]
  },
  {
   "cell_type": "code",
   "execution_count": null,
   "metadata": {},
   "outputs": [],
   "source": [
    "gnb.score(X_test, y_test)"
   ]
  },
  {
   "cell_type": "code",
   "execution_count": null,
   "metadata": {},
   "outputs": [],
   "source": [
    "gnb.score(X_train, y_train)"
   ]
  },
  {
   "cell_type": "markdown",
   "metadata": {},
   "source": [
    "## vamos a mejorar el modelo. hay muchas formas. vamos a hacer 2 de ellas. 1) PCA - analisis de componentes principales 2) Iterative train-test scikit learn"
   ]
  },
  {
   "cell_type": "markdown",
   "metadata": {},
   "source": [
    "## 1) PCA"
   ]
  },
  {
   "cell_type": "code",
   "execution_count": null,
   "metadata": {
    "collapsed": true
   },
   "outputs": [],
   "source": [
    "from sklearn.decomposition import PCA\n",
    "\n",
    "pca = PCA(9) # lo vamos a poner en 9 porq a Pablo le ha salido bien así, pero lo suyo es hacerlo iterativo\n",
    "\n",
    "Xtr =pca.fit(X).transform(X)\n",
    "\n",
    "Xtr_train, Xtr_test, ytr_train, ytr_test = train_test_split(Xtr, y, test_size=0.33)"
   ]
  },
  {
   "cell_type": "code",
   "execution_count": null,
   "metadata": {
    "collapsed": true
   },
   "outputs": [],
   "source": [
    "#lanzamos modelo\n",
    "gnbtr = GaussianNB()\n",
    "\n",
    "ytr_pred = gnb.fit(Xtr_train, ytr_train).predict(Xtr_test) "
   ]
  },
  {
   "cell_type": "code",
   "execution_count": null,
   "metadata": {},
   "outputs": [],
   "source": [
    "# Compute confusion matrix\n",
    "cnftr_matrix = confusion_matrix(ytr_test, ytr_pred)\n",
    "confussiontr = pd.DataFrame(cnftr_matrix,columns=['no','si'], index=['no','si'])\n",
    "confussiontr\n"
   ]
  },
  {
   "cell_type": "markdown",
   "metadata": {},
   "source": [
    "## 2) train-test iterativo"
   ]
  },
  {
   "cell_type": "markdown",
   "metadata": {},
   "source": [
    "lo q queremos es comparar la predicción del modelo en diferentes separaciones train-test. lo guardamos en results los valores y en a_elegir los falsos positivos, etc"
   ]
  },
  {
   "cell_type": "code",
   "execution_count": 52,
   "metadata": {
    "collapsed": true
   },
   "outputs": [],
   "source": [
    "from sklearn.naive_bayes import GaussianNB\n",
    "from sklearn.metrics import confusion_matrix\n",
    "from sklearn.model_selection import train_test_split\n",
    "\n",
    "def traintest (porcentaje, iteraciones):\n",
    "    results = []\n",
    "    a_elegir = []\n",
    "    for i in range(iteraciones):\n",
    "        # dividimos en train-test  \n",
    "        X_train, X_test, y_train, y_test = train_test_split(X, y, test_size= porcentaje)#quitamos el random_state\n",
    "\n",
    "        # lanzamos modelo\n",
    "        gnb = GaussianNB()\n",
    "        y_pred = gnb.fit(X_train, y_train).predict(X_test)\n",
    "\n",
    "        # Compute confusion matrix\n",
    "        cnf_matrix = confusion_matrix(y_test, y_pred)\n",
    "\n",
    "        # guardamos matriz\n",
    "        matriz = pd.DataFrame(cnf_matrix,columns=['no','si'], index=['no','si'])\n",
    "\n",
    "        results.append([matriz, y_pred, y_test, X_test, y_train, X_train])\n",
    "        a_elegir.append([porcentaje, pd.DataFrame(np.concatenate(cnf_matrix)).T])#TN FP FN TP\n",
    "    return results, a_elegir"
   ]
  },
  {
   "cell_type": "code",
   "execution_count": 53,
   "metadata": {
    "collapsed": true
   },
   "outputs": [],
   "source": [
    "RES = traintest(0.33,10)"
   ]
  },
  {
   "cell_type": "markdown",
   "metadata": {},
   "source": [
    "vamos a registrar el resultado del modelo para elegir el q nos parezca más apropiado. ¿apropiado? por falsos negativos, falsos positivos... "
   ]
  },
  {
   "cell_type": "code",
   "execution_count": 100,
   "metadata": {},
   "outputs": [
    {
     "data": {
      "text/plain": [
       "([[0.33,     0  1  2   3\n",
       "   0  42  9  8  29], [0.33,     0   1   2   3\n",
       "   0  42  10  10  26], [0.33,     0  1   2   3\n",
       "   0  46  1  11  30], [0.33,     0  1  2   3\n",
       "   0  41  6  5  36], [0.33,     0  1   2   3\n",
       "   0  45  7  12  24], [0.33,     0  1  2   3\n",
       "   0  43  5  6  34], [0.33,     0  1  2   3\n",
       "   0  44  9  5  30], [0.33,     0  1   2   3\n",
       "   0  39  7  11  31], [0.33,     0  1  2   3\n",
       "   0  41  9  9  29], [0.33,     0  1  2   3\n",
       "   0  47  5  8  28]],)"
      ]
     },
     "execution_count": 100,
     "metadata": {},
     "output_type": "execute_result"
    }
   ],
   "source": [
    "RES[-1:] #a_elegir"
   ]
  },
  {
   "cell_type": "code",
   "execution_count": 99,
   "metadata": {},
   "outputs": [
    {
     "data": {
      "text/plain": [
       "[[[0.33,     0  1  2   3\n",
       "   0  42  9  8  29], [0.33,     0   1   2   3\n",
       "   0  42  10  10  26], [0.33,     0  1   2   3\n",
       "   0  46  1  11  30], [0.33,     0  1  2   3\n",
       "   0  41  6  5  36], [0.33,     0  1   2   3\n",
       "   0  45  7  12  24], [0.33,     0  1  2   3\n",
       "   0  43  5  6  34], [0.33,     0  1  2   3\n",
       "   0  44  9  5  30], [0.33,     0  1   2   3\n",
       "   0  39  7  11  31], [0.33,     0  1  2   3\n",
       "   0  41  9  9  29], [0.33,     0  1  2   3\n",
       "   0  47  5  8  28]]]"
      ]
     },
     "execution_count": 99,
     "metadata": {},
     "output_type": "execute_result"
    }
   ],
   "source": [
    "list(RES[-1:])"
   ]
  },
  {
   "cell_type": "code",
   "execution_count": 92,
   "metadata": {},
   "outputs": [],
   "source": [
    "hola2 = pd.DataFrame(list(RES[-1:]))"
   ]
  },
  {
   "cell_type": "code",
   "execution_count": 93,
   "metadata": {},
   "outputs": [
    {
     "data": {
      "text/html": [
       "<div>\n",
       "<style>\n",
       "    .dataframe thead tr:only-child th {\n",
       "        text-align: right;\n",
       "    }\n",
       "\n",
       "    .dataframe thead th {\n",
       "        text-align: left;\n",
       "    }\n",
       "\n",
       "    .dataframe tbody tr th {\n",
       "        vertical-align: top;\n",
       "    }\n",
       "</style>\n",
       "<table border=\"1\" class=\"dataframe\">\n",
       "  <thead>\n",
       "    <tr style=\"text-align: right;\">\n",
       "      <th></th>\n",
       "      <th>0</th>\n",
       "      <th>1</th>\n",
       "      <th>2</th>\n",
       "      <th>3</th>\n",
       "      <th>4</th>\n",
       "      <th>5</th>\n",
       "      <th>6</th>\n",
       "      <th>7</th>\n",
       "      <th>8</th>\n",
       "      <th>9</th>\n",
       "    </tr>\n",
       "  </thead>\n",
       "  <tbody>\n",
       "    <tr>\n",
       "      <th>0</th>\n",
       "      <td>[0.33, [0]]</td>\n",
       "      <td>[0.33, [0]]</td>\n",
       "      <td>[0.33, [0]]</td>\n",
       "      <td>[0.33, [0]]</td>\n",
       "      <td>[0.33, [0]]</td>\n",
       "      <td>[0.33, [0]]</td>\n",
       "      <td>[0.33, [0]]</td>\n",
       "      <td>[0.33, [0]]</td>\n",
       "      <td>[0.33, [0]]</td>\n",
       "      <td>[0.33, [0]]</td>\n",
       "    </tr>\n",
       "  </tbody>\n",
       "</table>\n",
       "</div>"
      ],
      "text/plain": [
       "             0            1            2            3            4  \\\n",
       "0  [0.33, [0]]  [0.33, [0]]  [0.33, [0]]  [0.33, [0]]  [0.33, [0]]   \n",
       "\n",
       "             5            6            7            8            9  \n",
       "0  [0.33, [0]]  [0.33, [0]]  [0.33, [0]]  [0.33, [0]]  [0.33, [0]]  "
      ]
     },
     "execution_count": 93,
     "metadata": {},
     "output_type": "execute_result"
    }
   ],
   "source": [
    "hola2"
   ]
  },
  {
   "cell_type": "code",
   "execution_count": 13,
   "metadata": {},
   "outputs": [
    {
     "data": {
      "text/plain": [
       "[[    no  si\n",
       "  no  37   7\n",
       "  si   8  36,\n",
       "  array([0, 1, 1, 0, 1, 0, 0, 0, 1, 1, 1, 1, 0, 1, 0, 0, 1, 1, 1, 1, 0, 0, 0,\n",
       "         0, 1, 1, 0, 0, 0, 1, 1, 0, 0, 0, 0, 0, 1, 1, 0, 1, 1, 1, 1, 1, 0, 1,\n",
       "         1, 0, 0, 0, 0, 1, 0, 0, 0, 0, 0, 1, 0, 0, 1, 1, 1, 1, 0, 1, 0, 1, 0,\n",
       "         0, 0, 0, 1, 1, 1, 0, 1, 1, 1, 0, 0, 1, 0, 0, 1, 0, 1, 1], dtype=int64),\n",
       "  array([1, 1, 1, 0, 1, 1, 0, 1, 1, 1, 1, 1, 0, 0, 0, 0, 1, 1, 1, 0, 0, 0, 0,\n",
       "         0, 1, 1, 1, 0, 0, 1, 1, 1, 0, 0, 0, 0, 1, 0, 1, 1, 1, 1, 1, 0, 0, 1,\n",
       "         1, 0, 0, 0, 0, 0, 0, 0, 0, 0, 0, 1, 0, 0, 1, 1, 1, 1, 0, 1, 1, 0, 0,\n",
       "         0, 0, 0, 1, 1, 1, 0, 1, 0, 1, 0, 0, 1, 1, 0, 1, 0, 1, 1], dtype=int64),\n",
       "  array([[ 48.,   1.,   4., ...,   2.,   0.,   7.],\n",
       "         [ 63.,   1.,   4., ...,   2.,   1.,   7.],\n",
       "         [ 64.,   1.,   3., ...,   2.,   0.,   7.],\n",
       "         ..., \n",
       "         [ 57.,   1.,   3., ...,   1.,   1.,   7.],\n",
       "         [ 55.,   1.,   4., ...,   2.,   1.,   7.],\n",
       "         [ 60.,   1.,   4., ...,   2.,   2.,   7.]]),\n",
       "  array([1, 1, 0, 0, 1, 0, 1, 1, 0, 0, 0, 0, 0, 1, 1, 0, 0, 1, 1, 1, 0, 1, 0,\n",
       "         1, 0, 0, 1, 0, 0, 1, 0, 0, 0, 1, 1, 1, 1, 0, 0, 0, 1, 0, 1, 1, 0, 1,\n",
       "         1, 1, 1, 0, 1, 0, 0, 0, 0, 1, 0, 1, 0, 0, 1, 0, 0, 0, 0, 0, 0, 1, 1,\n",
       "         0, 0, 0, 1, 0, 0, 0, 0, 0, 0, 1, 1, 1, 1, 1, 0, 0, 0, 1, 0, 0, 0, 0,\n",
       "         0, 0, 0, 0, 0, 1, 0, 1, 1, 0, 0, 0, 0, 1, 1, 1, 0, 1, 0, 1, 0, 0, 0,\n",
       "         0, 0, 1, 0, 1, 0, 1, 1, 0, 0, 1, 0, 0, 0, 1, 0, 0, 1, 0, 0, 1, 0, 0,\n",
       "         1, 0, 1, 0, 1, 0, 0, 1, 0, 0, 1, 0, 0, 1, 0, 1, 0, 0, 0, 0, 0, 0, 0,\n",
       "         1, 0, 1, 0, 0, 1, 1, 1, 0, 1, 1, 1, 1, 0, 1], dtype=int64),\n",
       "  array([[ 58.,   0.,   2., ...,   1.,   2.,   3.],\n",
       "         [ 58.,   1.,   4., ...,   2.,   3.,   7.],\n",
       "         [ 71.,   0.,   2., ...,   1.,   2.,   3.],\n",
       "         ..., \n",
       "         [ 56.,   0.,   4., ...,   3.,   2.,   7.],\n",
       "         [ 45.,   1.,   2., ...,   1.,   0.,   3.],\n",
       "         [ 56.,   1.,   4., ...,   2.,   1.,   6.]])],\n",
       " [    no  si\n",
       "  no  41   7\n",
       "  si   7  33,\n",
       "  array([0, 1, 1, 0, 1, 0, 1, 1, 0, 1, 0, 0, 0, 0, 0, 1, 0, 1, 1, 0, 1, 0, 0,\n",
       "         1, 0, 0, 1, 0, 1, 1, 0, 0, 0, 0, 0, 1, 1, 1, 1, 0, 0, 1, 1, 0, 1, 1,\n",
       "         0, 1, 0, 1, 1, 1, 0, 0, 1, 0, 0, 1, 0, 0, 1, 0, 1, 1, 1, 1, 0, 0, 1,\n",
       "         0, 0, 1, 1, 1, 0, 0, 0, 1, 0, 0, 0, 0, 0, 0, 0, 0, 1, 1], dtype=int64),\n",
       "  array([1, 1, 1, 0, 1, 0, 1, 1, 0, 1, 0, 0, 0, 0, 0, 1, 1, 0, 0, 0, 1, 0, 0,\n",
       "         0, 0, 0, 1, 0, 1, 1, 0, 0, 0, 0, 0, 0, 1, 1, 1, 0, 1, 1, 0, 0, 1, 1,\n",
       "         1, 0, 0, 1, 1, 0, 0, 0, 1, 0, 0, 1, 0, 0, 1, 0, 1, 1, 1, 1, 1, 1, 1,\n",
       "         0, 0, 1, 1, 1, 0, 0, 0, 1, 0, 0, 0, 0, 1, 0, 0, 0, 1, 1], dtype=int64),\n",
       "  array([[ 59.,   1.,   1., ...,   1.,   0.,   3.],\n",
       "         [ 48.,   1.,   4., ...,   2.,   0.,   7.],\n",
       "         [ 56.,   0.,   4., ...,   3.,   2.,   7.],\n",
       "         ..., \n",
       "         [ 41.,   1.,   2., ...,   2.,   0.,   6.],\n",
       "         [ 54.,   1.,   4., ...,   2.,   1.,   7.],\n",
       "         [ 57.,   1.,   4., ...,   2.,   1.,   6.]]),\n",
       "  array([0, 1, 0, 1, 0, 1, 1, 0, 1, 0, 0, 1, 0, 1, 1, 0, 0, 0, 0, 0, 0, 0, 1,\n",
       "         1, 0, 1, 0, 1, 1, 0, 0, 1, 0, 0, 1, 0, 1, 1, 0, 0, 1, 1, 0, 1, 1, 0,\n",
       "         1, 0, 1, 0, 0, 1, 1, 1, 1, 1, 0, 0, 0, 1, 1, 1, 0, 0, 0, 1, 1, 1, 1,\n",
       "         1, 0, 1, 0, 0, 0, 0, 0, 0, 0, 1, 0, 1, 1, 0, 0, 1, 1, 0, 0, 0, 1, 1,\n",
       "         1, 0, 0, 0, 1, 1, 1, 0, 0, 0, 0, 0, 0, 1, 0, 0, 0, 0, 0, 1, 0, 1, 0,\n",
       "         1, 1, 0, 0, 1, 0, 0, 0, 0, 0, 1, 0, 1, 1, 0, 0, 0, 0, 1, 0, 1, 0, 0,\n",
       "         0, 0, 0, 1, 1, 0, 0, 0, 1, 0, 0, 0, 0, 1, 0, 1, 0, 1, 0, 0, 1, 0, 1,\n",
       "         1, 0, 1, 0, 1, 0, 1, 1, 1, 0, 0, 0, 0, 1, 1], dtype=int64),\n",
       "  array([[ 69.,   1.,   1., ...,   2.,   1.,   3.],\n",
       "         [ 57.,   1.,   3., ...,   2.,   1.,   7.],\n",
       "         [ 58.,   0.,   4., ...,   2.,   0.,   3.],\n",
       "         ..., \n",
       "         [ 60.,   0.,   3., ...,   1.,   1.,   3.],\n",
       "         [ 68.,   1.,   3., ...,   2.,   0.,   7.],\n",
       "         [ 60.,   1.,   4., ...,   1.,   2.,   7.]])],\n",
       " [    no  si\n",
       "  no  50   4\n",
       "  si   5  29,\n",
       "  array([1, 0, 1, 0, 0, 0, 0, 0, 1, 1, 0, 1, 0, 0, 0, 0, 0, 1, 0, 1, 0, 0, 0,\n",
       "         0, 0, 0, 0, 0, 0, 0, 1, 0, 1, 1, 0, 0, 0, 0, 0, 0, 1, 1, 1, 0, 1, 0,\n",
       "         1, 0, 0, 1, 1, 0, 1, 0, 1, 0, 0, 1, 1, 0, 0, 0, 0, 1, 1, 1, 0, 0, 1,\n",
       "         0, 1, 1, 0, 0, 1, 0, 1, 1, 1, 1, 0, 1, 0, 0, 0, 0, 0, 0], dtype=int64),\n",
       "  array([1, 0, 1, 0, 0, 0, 0, 0, 0, 0, 0, 1, 0, 0, 0, 1, 0, 1, 0, 1, 0, 0, 0,\n",
       "         0, 0, 0, 0, 0, 0, 0, 0, 0, 1, 1, 0, 1, 0, 0, 0, 0, 1, 1, 1, 0, 1, 1,\n",
       "         1, 0, 0, 1, 1, 0, 1, 0, 1, 0, 0, 1, 1, 0, 0, 0, 0, 1, 1, 1, 0, 0, 1,\n",
       "         1, 1, 0, 0, 0, 1, 0, 1, 1, 1, 1, 0, 1, 0, 1, 0, 0, 0, 0], dtype=int64),\n",
       "  array([[ 69.,   1.,   3., ...,   2.,   3.,   7.],\n",
       "         [ 52.,   1.,   2., ...,   1.,   1.,   3.],\n",
       "         [ 58.,   1.,   4., ...,   1.,   1.,   7.],\n",
       "         ..., \n",
       "         [ 43.,   1.,   4., ...,   2.,   0.,   3.],\n",
       "         [ 50.,   0.,   3., ...,   2.,   0.,   3.],\n",
       "         [ 60.,   0.,   3., ...,   1.,   0.,   3.]]),\n",
       "  array([0, 0, 1, 0, 1, 1, 0, 0, 1, 1, 0, 0, 1, 0, 0, 0, 0, 0, 0, 1, 0, 0, 0,\n",
       "         0, 0, 1, 1, 1, 1, 0, 0, 0, 1, 1, 1, 0, 0, 0, 1, 0, 1, 1, 0, 1, 1, 1,\n",
       "         1, 0, 1, 1, 0, 0, 1, 1, 1, 1, 0, 1, 0, 1, 0, 0, 0, 1, 0, 1, 0, 1, 0,\n",
       "         0, 0, 1, 0, 0, 1, 0, 0, 1, 1, 0, 0, 1, 0, 0, 1, 1, 0, 1, 0, 0, 0, 1,\n",
       "         0, 0, 0, 0, 1, 0, 0, 0, 1, 1, 0, 1, 1, 1, 0, 1, 1, 1, 0, 1, 0, 1, 0,\n",
       "         1, 0, 1, 1, 0, 1, 0, 0, 0, 1, 1, 0, 0, 0, 1, 1, 0, 0, 1, 1, 0, 0, 0,\n",
       "         1, 1, 0, 1, 0, 1, 0, 0, 0, 0, 1, 0, 1, 1, 1, 0, 0, 1, 0, 1, 0, 1, 1,\n",
       "         1, 0, 0, 0, 1, 0, 0, 1, 1, 1, 1, 0, 0, 1, 0], dtype=int64),\n",
       "  array([[ 42.,   1.,   3., ...,   3.,   0.,   7.],\n",
       "         [ 61.,   1.,   3., ...,   2.,   0.,   3.],\n",
       "         [ 56.,   1.,   3., ...,   2.,   1.,   6.],\n",
       "         ..., \n",
       "         [ 54.,   1.,   3., ...,   3.,   1.,   3.],\n",
       "         [ 65.,   1.,   4., ...,   2.,   1.,   7.],\n",
       "         [ 51.,   0.,   3., ...,   1.,   0.,   3.]])],\n",
       " [    no  si\n",
       "  no  49   4\n",
       "  si   9  26,\n",
       "  array([0, 0, 0, 0, 0, 1, 0, 1, 1, 1, 0, 0, 1, 0, 1, 0, 0, 0, 0, 1, 0, 0, 0,\n",
       "         1, 0, 1, 0, 0, 1, 0, 0, 0, 0, 0, 1, 0, 1, 1, 1, 1, 1, 0, 0, 0, 1, 1,\n",
       "         0, 0, 0, 0, 1, 0, 0, 0, 1, 0, 0, 0, 0, 0, 0, 0, 0, 0, 1, 1, 1, 0, 1,\n",
       "         0, 1, 0, 0, 0, 1, 1, 0, 0, 0, 0, 0, 0, 0, 0, 1, 0, 1, 1], dtype=int64),\n",
       "  array([0, 0, 0, 0, 0, 1, 0, 1, 1, 1, 0, 0, 1, 0, 1, 1, 1, 1, 0, 1, 0, 0, 0,\n",
       "         1, 0, 1, 1, 0, 1, 0, 0, 0, 0, 0, 1, 0, 0, 0, 1, 1, 1, 0, 0, 1, 1, 1,\n",
       "         0, 0, 0, 0, 1, 0, 0, 0, 1, 1, 0, 0, 0, 0, 0, 0, 1, 1, 1, 1, 0, 0, 0,\n",
       "         0, 1, 0, 1, 0, 1, 1, 0, 0, 0, 0, 0, 0, 0, 0, 1, 0, 1, 1], dtype=int64),\n",
       "  array([[ 52.,   1.,   3., ...,   1.,   0.,   7.],\n",
       "         [ 62.,   1.,   2., ...,   1.,   0.,   3.],\n",
       "         [ 45.,   0.,   2., ...,   2.,   0.,   3.],\n",
       "         ..., \n",
       "         [ 57.,   0.,   4., ...,   1.,   1.,   3.],\n",
       "         [ 51.,   0.,   4., ...,   2.,   0.,   7.],\n",
       "         [ 54.,   1.,   4., ...,   2.,   1.,   7.]]),\n",
       "  array([0, 1, 0, 1, 1, 0, 0, 0, 1, 1, 0, 0, 1, 0, 1, 0, 1, 1, 1, 1, 1, 1, 0,\n",
       "         0, 0, 1, 1, 1, 0, 1, 1, 1, 1, 0, 0, 1, 0, 0, 0, 0, 1, 1, 1, 0, 0, 0,\n",
       "         1, 0, 0, 1, 1, 0, 1, 1, 1, 0, 0, 0, 1, 0, 0, 0, 1, 0, 0, 0, 1, 1, 0,\n",
       "         1, 0, 0, 0, 0, 0, 0, 1, 0, 0, 0, 0, 0, 0, 0, 0, 1, 1, 0, 1, 0, 0, 1,\n",
       "         1, 0, 0, 0, 1, 0, 1, 1, 0, 0, 0, 1, 0, 1, 1, 0, 0, 0, 1, 1, 1, 0, 1,\n",
       "         1, 1, 0, 0, 0, 0, 0, 1, 0, 1, 1, 0, 1, 1, 0, 0, 0, 1, 1, 0, 1, 1, 1,\n",
       "         1, 1, 0, 1, 0, 1, 0, 0, 0, 0, 1, 0, 1, 0, 1, 0, 1, 0, 1, 1, 0, 1, 0,\n",
       "         0, 1, 0, 0, 0, 0, 1, 0, 0, 1, 1, 0, 1, 1, 0], dtype=int64),\n",
       "  array([[ 62.,   1.,   3., ...,   2.,   3.,   7.],\n",
       "         [ 58.,   1.,   4., ...,   2.,   2.,   7.],\n",
       "         [ 57.,   1.,   4., ...,   2.,   0.,   6.],\n",
       "         ..., \n",
       "         [ 45.,   1.,   4., ...,   2.,   3.,   7.],\n",
       "         [ 53.,   1.,   4., ...,   3.,   0.,   7.],\n",
       "         [ 58.,   1.,   3., ...,   2.,   0.,   7.]])],\n",
       " [    no  si\n",
       "  no  41   7\n",
       "  si   8  32,\n",
       "  array([1, 0, 0, 0, 0, 0, 1, 0, 1, 1, 1, 0, 0, 1, 0, 0, 1, 1, 1, 1, 0, 0, 1,\n",
       "         0, 1, 1, 1, 0, 0, 1, 0, 1, 1, 1, 1, 1, 0, 0, 0, 1, 1, 0, 0, 1, 0, 0,\n",
       "         0, 1, 1, 1, 0, 0, 0, 1, 1, 0, 1, 0, 1, 0, 0, 0, 0, 0, 0, 1, 0, 0, 0,\n",
       "         0, 0, 1, 1, 1, 1, 0, 0, 0, 1, 0, 1, 1, 1, 0, 0, 0, 0, 0], dtype=int64),\n",
       "  array([1, 0, 0, 0, 0, 0, 1, 0, 1, 1, 1, 0, 0, 1, 0, 0, 1, 1, 0, 1, 0, 0, 1,\n",
       "         0, 1, 1, 1, 0, 0, 1, 0, 1, 1, 0, 1, 0, 0, 1, 0, 1, 1, 1, 0, 1, 1, 0,\n",
       "         0, 1, 1, 0, 0, 0, 1, 1, 1, 0, 1, 0, 1, 0, 0, 0, 1, 0, 0, 1, 0, 0, 0,\n",
       "         1, 1, 0, 1, 0, 1, 0, 0, 0, 0, 0, 1, 1, 1, 0, 0, 0, 1, 0], dtype=int64),\n",
       "  array([[ 54.,   1.,   4., ...,   2.,   1.,   3.],\n",
       "         [ 67.,   0.,   3., ...,   2.,   0.,   7.],\n",
       "         [ 43.,   1.,   4., ...,   2.,   0.,   3.],\n",
       "         ..., \n",
       "         [ 52.,   1.,   3., ...,   1.,   0.,   7.],\n",
       "         [ 44.,   1.,   4., ...,   1.,   1.,   3.],\n",
       "         [ 67.,   0.,   4., ...,   1.,   2.,   3.]]),\n",
       "  array([0, 1, 0, 0, 1, 0, 0, 0, 0, 0, 0, 0, 1, 0, 1, 0, 1, 0, 1, 0, 0, 0, 0,\n",
       "         1, 0, 0, 1, 1, 1, 1, 1, 0, 1, 0, 0, 0, 1, 1, 0, 1, 0, 0, 0, 0, 1, 0,\n",
       "         1, 0, 0, 0, 1, 0, 0, 1, 0, 0, 1, 1, 1, 0, 0, 0, 1, 0, 0, 0, 0, 0, 1,\n",
       "         0, 0, 1, 0, 0, 0, 1, 0, 0, 0, 1, 0, 0, 0, 1, 1, 0, 0, 1, 1, 0, 0, 1,\n",
       "         1, 0, 1, 1, 0, 1, 1, 0, 1, 0, 1, 0, 0, 0, 0, 1, 0, 1, 0, 1, 0, 1, 0,\n",
       "         1, 0, 0, 1, 0, 0, 1, 1, 1, 0, 1, 1, 0, 0, 0, 0, 1, 1, 1, 1, 0, 0, 0,\n",
       "         0, 0, 0, 1, 0, 1, 0, 1, 1, 1, 0, 1, 1, 0, 1, 0, 1, 0, 1, 1, 1, 1, 0,\n",
       "         1, 0, 1, 0, 1, 1, 0, 1, 0, 0, 0, 0, 1, 1, 0], dtype=int64),\n",
       "  array([[ 54.,   0.,   3., ...,   2.,   0.,   3.],\n",
       "         [ 62.,   0.,   3., ...,   2.,   1.,   7.],\n",
       "         [ 59.,   1.,   4., ...,   2.,   0.,   7.],\n",
       "         ..., \n",
       "         [ 56.,   1.,   4., ...,   3.,   0.,   7.],\n",
       "         [ 56.,   0.,   4., ...,   2.,   2.,   7.],\n",
       "         [ 61.,   1.,   3., ...,   2.,   0.,   3.]])],\n",
       " [    no  si\n",
       "  no  48   4\n",
       "  si   8  28,\n",
       "  array([0, 0, 0, 0, 1, 1, 0, 0, 1, 0, 1, 0, 1, 0, 0, 0, 0, 1, 1, 0, 0, 0, 0,\n",
       "         0, 1, 1, 1, 0, 1, 0, 1, 1, 0, 1, 1, 0, 1, 1, 0, 1, 1, 0, 0, 1, 0, 0,\n",
       "         1, 1, 1, 1, 1, 0, 0, 0, 0, 0, 0, 0, 0, 0, 0, 1, 0, 0, 0, 0, 0, 0, 0,\n",
       "         0, 0, 0, 1, 1, 0, 0, 1, 1, 0, 0, 0, 1, 1, 0, 0, 0, 0, 0], dtype=int64),\n",
       "  array([0, 0, 0, 0, 1, 1, 1, 1, 0, 0, 1, 0, 1, 0, 0, 0, 0, 1, 1, 0, 0, 1, 0,\n",
       "         1, 1, 0, 1, 0, 1, 0, 1, 1, 0, 1, 0, 0, 1, 1, 0, 1, 1, 0, 0, 1, 0, 0,\n",
       "         1, 1, 1, 1, 1, 0, 0, 0, 0, 1, 0, 0, 0, 0, 0, 0, 0, 0, 0, 0, 0, 1, 0,\n",
       "         0, 0, 1, 1, 1, 0, 0, 1, 1, 0, 0, 0, 1, 1, 0, 0, 0, 1, 0], dtype=int64),\n",
       "  array([[ 59.,   1.,   4., ...,   1.,   0.,   3.],\n",
       "         [ 55.,   0.,   2., ...,   2.,   0.,   3.],\n",
       "         [ 42.,   1.,   4., ...,   1.,   0.,   3.],\n",
       "         ..., \n",
       "         [ 71.,   0.,   3., ...,   1.,   1.,   3.],\n",
       "         [ 44.,   1.,   4., ...,   1.,   1.,   3.],\n",
       "         [ 44.,   0.,   3., ...,   2.,   0.,   3.]]),\n",
       "  array([1, 1, 0, 1, 0, 0, 1, 0, 0, 1, 1, 1, 1, 0, 1, 0, 1, 0, 1, 1, 0, 1, 0,\n",
       "         0, 0, 1, 0, 1, 1, 0, 0, 0, 1, 1, 1, 0, 0, 1, 0, 1, 1, 0, 0, 1, 0, 0,\n",
       "         1, 0, 0, 0, 0, 1, 0, 1, 0, 1, 0, 1, 1, 1, 0, 1, 0, 1, 1, 1, 0, 0, 0,\n",
       "         0, 1, 1, 1, 0, 0, 0, 0, 1, 0, 1, 0, 0, 0, 0, 0, 0, 0, 0, 0, 1, 0, 1,\n",
       "         1, 1, 1, 0, 1, 0, 1, 0, 0, 1, 0, 1, 1, 1, 1, 0, 0, 1, 1, 1, 0, 0, 0,\n",
       "         1, 1, 0, 0, 0, 1, 0, 0, 0, 0, 0, 0, 1, 0, 0, 0, 0, 0, 1, 1, 1, 0, 1,\n",
       "         0, 1, 0, 1, 0, 0, 1, 0, 1, 1, 0, 1, 0, 0, 0, 0, 1, 1, 0, 0, 1, 0, 0,\n",
       "         0, 1, 1, 1, 0, 1, 0, 0, 0, 1, 0, 0, 1, 1, 1], dtype=int64),\n",
       "  array([[ 66.,   0.,   4., ...,   2.,   2.,   7.],\n",
       "         [ 49.,   1.,   3., ...,   2.,   3.,   7.],\n",
       "         [ 39.,   1.,   3., ...,   1.,   0.,   3.],\n",
       "         ..., \n",
       "         [ 77.,   1.,   4., ...,   1.,   3.,   3.],\n",
       "         [ 67.,   1.,   4., ...,   2.,   2.,   7.],\n",
       "         [ 39.,   1.,   4., ...,   2.,   0.,   7.]])],\n",
       " [    no  si\n",
       "  no  44   5\n",
       "  si   8  31,\n",
       "  array([1, 0, 1, 1, 1, 0, 0, 0, 0, 1, 1, 0, 0, 0, 1, 1, 0, 0, 0, 1, 1, 1, 1,\n",
       "         0, 1, 1, 1, 1, 1, 0, 1, 0, 1, 1, 0, 0, 0, 0, 1, 1, 0, 0, 0, 1, 0, 0,\n",
       "         0, 0, 1, 1, 0, 1, 0, 0, 0, 0, 0, 1, 0, 0, 0, 0, 0, 1, 1, 0, 0, 0, 0,\n",
       "         0, 1, 0, 0, 0, 0, 0, 1, 1, 1, 0, 0, 1, 0, 1, 0, 0, 0, 1], dtype=int64),\n",
       "  array([0, 0, 1, 1, 1, 0, 0, 0, 0, 1, 1, 0, 0, 1, 0, 1, 0, 1, 1, 0, 1, 1, 1,\n",
       "         0, 1, 1, 1, 1, 1, 0, 1, 0, 1, 1, 0, 0, 1, 1, 1, 1, 0, 0, 0, 1, 0, 0,\n",
       "         0, 1, 1, 1, 1, 1, 0, 0, 0, 0, 0, 1, 0, 0, 0, 0, 0, 1, 0, 0, 0, 0, 1,\n",
       "         0, 1, 0, 0, 0, 0, 0, 1, 0, 1, 0, 0, 1, 0, 1, 0, 0, 0, 1], dtype=int64),\n",
       "  array([[ 62.,   1.,   3., ...,   2.,   3.,   7.],\n",
       "         [ 43.,   1.,   4., ...,   1.,   0.,   3.],\n",
       "         [ 38.,   1.,   1., ...,   2.,   0.,   7.],\n",
       "         ..., \n",
       "         [ 57.,   1.,   4., ...,   2.,   0.,   6.],\n",
       "         [ 51.,   1.,   4., ...,   1.,   0.,   3.],\n",
       "         [ 66.,   1.,   4., ...,   1.,   1.,   3.]]),\n",
       "  array([0, 0, 1, 1, 0, 1, 1, 1, 1, 0, 0, 1, 0, 0, 1, 0, 0, 1, 0, 0, 0, 0, 0,\n",
       "         0, 0, 1, 0, 0, 0, 1, 0, 0, 1, 1, 0, 1, 0, 1, 1, 1, 0, 1, 0, 1, 0, 1,\n",
       "         0, 1, 1, 0, 0, 0, 1, 0, 0, 1, 1, 0, 0, 0, 1, 0, 0, 0, 0, 1, 1, 0, 1,\n",
       "         0, 1, 1, 0, 0, 0, 0, 0, 0, 1, 0, 1, 0, 0, 1, 1, 0, 0, 0, 0, 0, 0, 0,\n",
       "         1, 0, 1, 1, 0, 0, 1, 0, 0, 0, 1, 0, 1, 0, 0, 1, 0, 0, 1, 1, 1, 0, 1,\n",
       "         0, 0, 1, 1, 1, 0, 1, 0, 1, 0, 1, 0, 0, 0, 1, 1, 1, 1, 0, 0, 0, 0, 1,\n",
       "         1, 1, 0, 1, 0, 1, 1, 1, 1, 1, 0, 0, 1, 0, 1, 0, 0, 1, 0, 1, 0, 0, 0,\n",
       "         0, 1, 1, 0, 0, 1, 1, 0, 0, 1, 0, 1, 0, 0, 1], dtype=int64),\n",
       "  array([[ 59.,   1.,   1., ...,   3.,   0.,   7.],\n",
       "         [ 63.,   0.,   3., ...,   1.,   0.,   3.],\n",
       "         [ 60.,   1.,   4., ...,   2.,   1.,   7.],\n",
       "         ..., \n",
       "         [ 64.,   0.,   4., ...,   2.,   2.,   3.],\n",
       "         [ 61.,   1.,   3., ...,   2.,   0.,   3.],\n",
       "         [ 67.,   1.,   4., ...,   2.,   3.,   3.]])],\n",
       " [    no  si\n",
       "  no  47   5\n",
       "  si   7  29,\n",
       "  array([0, 0, 1, 0, 0, 0, 0, 1, 1, 0, 0, 0, 0, 1, 0, 0, 1, 0, 0, 1, 1, 0, 1,\n",
       "         0, 1, 0, 0, 0, 0, 1, 0, 1, 0, 0, 1, 0, 1, 0, 0, 0, 1, 0, 0, 0, 0, 0,\n",
       "         1, 0, 1, 1, 0, 1, 0, 0, 1, 0, 0, 0, 0, 1, 1, 0, 0, 0, 0, 0, 1, 0, 0,\n",
       "         1, 1, 1, 1, 1, 1, 0, 0, 0, 1, 0, 0, 0, 1, 1, 1, 0, 1, 1], dtype=int64),\n",
       "  array([1, 0, 1, 0, 0, 0, 0, 1, 1, 0, 0, 0, 0, 1, 0, 0, 1, 0, 0, 1, 0, 0, 1,\n",
       "         0, 1, 0, 0, 0, 0, 1, 0, 1, 0, 1, 1, 1, 1, 1, 0, 0, 0, 0, 0, 0, 0, 1,\n",
       "         1, 0, 1, 0, 0, 1, 0, 0, 1, 0, 0, 0, 0, 1, 1, 0, 0, 0, 0, 1, 1, 1, 0,\n",
       "         1, 1, 1, 0, 0, 1, 0, 0, 0, 1, 0, 0, 0, 1, 1, 1, 0, 1, 1], dtype=int64),\n",
       "  array([[ 58.,   1.,   4., ...,   1.,   1.,   7.],\n",
       "         [ 40.,   1.,   1., ...,   1.,   0.,   7.],\n",
       "         [ 53.,   1.,   4., ...,   2.,   2.,   7.],\n",
       "         ..., \n",
       "         [ 43.,   1.,   4., ...,   1.,   0.,   3.],\n",
       "         [ 55.,   1.,   4., ...,   2.,   1.,   7.],\n",
       "         [ 57.,   1.,   3., ...,   2.,   1.,   7.]]),\n",
       "  array([0, 1, 0, 1, 0, 0, 0, 0, 0, 0, 0, 0, 1, 1, 0, 0, 0, 0, 0, 0, 1, 0, 0,\n",
       "         0, 1, 0, 0, 0, 0, 0, 1, 1, 0, 1, 1, 0, 1, 1, 1, 0, 1, 0, 0, 0, 0, 1,\n",
       "         0, 0, 1, 0, 0, 1, 0, 0, 0, 1, 0, 1, 1, 0, 0, 1, 1, 0, 0, 1, 0, 0, 0,\n",
       "         1, 0, 1, 0, 1, 0, 1, 1, 1, 0, 0, 0, 1, 1, 1, 0, 0, 0, 0, 1, 1, 1, 1,\n",
       "         0, 0, 0, 1, 0, 0, 0, 1, 0, 0, 0, 1, 1, 1, 1, 1, 1, 1, 1, 0, 1, 0, 0,\n",
       "         0, 0, 1, 0, 1, 0, 0, 1, 0, 0, 1, 1, 1, 1, 0, 0, 1, 0, 1, 0, 1, 1, 1,\n",
       "         0, 1, 1, 1, 1, 0, 1, 1, 1, 0, 1, 1, 1, 0, 0, 0, 0, 1, 1, 1, 1, 0, 1,\n",
       "         1, 0, 0, 0, 0, 0, 1, 1, 1, 0, 0, 0, 0, 1, 0], dtype=int64),\n",
       "  array([[ 39.,   0.,   3., ...,   1.,   0.,   3.],\n",
       "         [ 63.,   1.,   4., ...,   2.,   1.,   7.],\n",
       "         [ 41.,   0.,   2., ...,   1.,   1.,   3.],\n",
       "         ..., \n",
       "         [ 64.,   0.,   3., ...,   1.,   0.,   7.],\n",
       "         [ 59.,   1.,   4., ...,   2.,   1.,   7.],\n",
       "         [ 43.,   1.,   4., ...,   1.,   0.,   7.]])],\n",
       " [    no  si\n",
       "  no  44   4\n",
       "  si   6  34,\n",
       "  array([0, 0, 0, 1, 0, 1, 0, 1, 0, 1, 0, 1, 0, 0, 1, 1, 1, 0, 1, 0, 1, 0, 1,\n",
       "         0, 1, 1, 0, 1, 1, 1, 0, 0, 1, 0, 1, 0, 0, 1, 0, 1, 0, 0, 0, 1, 0, 0,\n",
       "         1, 0, 0, 0, 0, 1, 0, 1, 1, 1, 0, 0, 1, 1, 0, 0, 1, 1, 0, 1, 1, 0, 1,\n",
       "         0, 0, 0, 0, 0, 0, 0, 1, 0, 1, 0, 0, 0, 0, 1, 0, 1, 0, 1], dtype=int64),\n",
       "  array([0, 0, 1, 1, 0, 1, 0, 1, 0, 1, 0, 1, 0, 0, 1, 1, 1, 0, 1, 0, 1, 0, 1,\n",
       "         0, 1, 1, 0, 1, 1, 1, 0, 1, 0, 0, 1, 0, 1, 1, 0, 0, 0, 1, 0, 0, 0, 0,\n",
       "         1, 1, 1, 0, 0, 1, 0, 1, 1, 1, 0, 0, 1, 1, 0, 0, 1, 0, 0, 1, 1, 0, 1,\n",
       "         0, 0, 0, 0, 0, 0, 0, 1, 0, 1, 0, 0, 0, 0, 1, 0, 1, 0, 1], dtype=int64),\n",
       "  array([[ 41.,   0.,   3., ...,   1.,   0.,   3.],\n",
       "         [ 39.,   1.,   3., ...,   1.,   0.,   3.],\n",
       "         [ 44.,   1.,   4., ...,   1.,   1.,   3.],\n",
       "         ..., \n",
       "         [ 60.,   1.,   4., ...,   2.,   1.,   7.],\n",
       "         [ 45.,   0.,   4., ...,   2.,   0.,   3.],\n",
       "         [ 60.,   1.,   4., ...,   2.,   2.,   7.]]),\n",
       "  array([0, 0, 1, 0, 0, 1, 0, 0, 1, 0, 0, 1, 1, 1, 0, 0, 0, 0, 0, 1, 0, 0, 1,\n",
       "         0, 0, 1, 0, 0, 1, 1, 1, 0, 1, 1, 0, 1, 1, 0, 0, 0, 0, 1, 0, 1, 1, 1,\n",
       "         0, 1, 0, 0, 0, 1, 0, 1, 1, 0, 0, 1, 1, 0, 1, 0, 1, 0, 1, 1, 0, 0, 0,\n",
       "         1, 0, 0, 1, 0, 0, 1, 1, 1, 0, 0, 0, 1, 0, 1, 1, 0, 1, 0, 0, 1, 0, 1,\n",
       "         0, 0, 1, 0, 0, 0, 1, 0, 1, 0, 0, 0, 0, 1, 1, 1, 1, 0, 1, 0, 1, 0, 1,\n",
       "         0, 1, 0, 1, 1, 1, 0, 0, 1, 0, 1, 0, 0, 0, 0, 0, 0, 0, 0, 1, 0, 0, 0,\n",
       "         0, 0, 0, 1, 1, 0, 0, 0, 0, 0, 0, 1, 1, 0, 1, 0, 0, 1, 1, 1, 0, 0, 0,\n",
       "         1, 0, 1, 1, 1, 0, 1, 0, 0, 1, 0, 1, 1, 1, 0], dtype=int64),\n",
       "  array([[ 69.,   1.,   1., ...,   2.,   1.,   3.],\n",
       "         [ 50.,   0.,   3., ...,   2.,   0.,   3.],\n",
       "         [ 67.,   1.,   4., ...,   2.,   2.,   7.],\n",
       "         ..., \n",
       "         [ 41.,   1.,   4., ...,   1.,   0.,   7.],\n",
       "         [ 40.,   1.,   4., ...,   2.,   0.,   7.],\n",
       "         [ 62.,   0.,   4., ...,   1.,   0.,   3.]])],\n",
       " [    no  si\n",
       "  no  38   9\n",
       "  si   8  33,\n",
       "  array([0, 1, 0, 0, 0, 1, 1, 1, 1, 0, 0, 0, 1, 1, 0, 0, 1, 1, 1, 1, 1, 0, 1,\n",
       "         0, 1, 0, 0, 0, 1, 1, 1, 1, 1, 0, 0, 0, 1, 1, 1, 0, 1, 0, 0, 0, 1, 0,\n",
       "         1, 1, 1, 0, 1, 1, 0, 0, 0, 1, 0, 0, 1, 0, 0, 1, 1, 0, 0, 0, 0, 0, 0,\n",
       "         0, 1, 0, 0, 0, 0, 1, 1, 0, 1, 1, 0, 1, 0, 1, 0, 1, 0, 1], dtype=int64),\n",
       "  array([0, 1, 1, 1, 1, 0, 1, 1, 1, 0, 0, 0, 0, 1, 0, 0, 1, 1, 1, 1, 0, 0, 1,\n",
       "         0, 0, 0, 0, 0, 0, 1, 1, 1, 1, 0, 0, 0, 1, 1, 1, 0, 1, 0, 0, 0, 1, 0,\n",
       "         1, 1, 1, 0, 1, 1, 1, 0, 0, 1, 0, 0, 1, 0, 0, 0, 1, 0, 1, 0, 0, 1, 0,\n",
       "         1, 0, 1, 0, 0, 0, 1, 0, 0, 1, 0, 0, 1, 0, 1, 0, 1, 0, 1], dtype=int64),\n",
       "  array([[ 43.,   1.,   4., ...,   1.,   0.,   7.],\n",
       "         [ 35.,   1.,   4., ...,   1.,   0.,   7.],\n",
       "         [ 62.,   0.,   4., ...,   2.,   0.,   3.],\n",
       "         ..., \n",
       "         [ 60.,   1.,   4., ...,   2.,   2.,   7.],\n",
       "         [ 44.,   0.,   3., ...,   2.,   1.,   3.],\n",
       "         [ 64.,   1.,   4., ...,   3.,   1.,   3.]]),\n",
       "  array([1, 1, 1, 1, 1, 0, 0, 1, 0, 0, 1, 1, 0, 0, 1, 0, 0, 0, 0, 0, 1, 1, 0,\n",
       "         1, 0, 1, 1, 1, 0, 0, 1, 0, 1, 0, 0, 1, 0, 0, 1, 1, 1, 0, 1, 1, 1, 0,\n",
       "         0, 0, 0, 0, 1, 0, 1, 0, 1, 1, 0, 0, 0, 0, 0, 1, 1, 0, 0, 0, 1, 0, 0,\n",
       "         0, 0, 0, 0, 0, 0, 0, 1, 1, 0, 1, 0, 0, 0, 0, 0, 1, 1, 0, 1, 0, 1, 1,\n",
       "         0, 0, 1, 1, 1, 0, 0, 1, 0, 0, 1, 1, 1, 1, 1, 0, 0, 0, 0, 0, 0, 1, 1,\n",
       "         0, 1, 0, 0, 1, 0, 1, 0, 1, 1, 1, 0, 0, 1, 0, 0, 0, 0, 0, 0, 1, 0, 0,\n",
       "         0, 0, 1, 1, 0, 0, 0, 1, 0, 0, 1, 0, 1, 0, 1, 0, 0, 1, 0, 0, 0, 1, 1,\n",
       "         0, 1, 0, 1, 1, 1, 0, 0, 0, 0, 1, 0, 1, 0, 1], dtype=int64),\n",
       "  array([[ 62.,   1.,   2., ...,   2.,   1.,   7.],\n",
       "         [ 59.,   1.,   1., ...,   1.,   0.,   3.],\n",
       "         [ 50.,   1.,   4., ...,   2.,   0.,   7.],\n",
       "         ..., \n",
       "         [ 58.,   1.,   3., ...,   1.,   2.,   7.],\n",
       "         [ 52.,   0.,   3., ...,   2.,   0.,   3.],\n",
       "         [ 77.,   1.,   4., ...,   1.,   3.,   3.]])]]"
      ]
     },
     "execution_count": 13,
     "metadata": {},
     "output_type": "execute_result"
    }
   ],
   "source": [
    "a_elegir = [porcentaje, RES]"
   ]
  },
  {
   "cell_type": "code",
   "execution_count": 11,
   "metadata": {},
   "outputs": [
    {
     "name": "stdout",
     "output_type": "stream",
     "text": [
      "    no  si\n",
      "no  37   7\n",
      "si   8  36\n",
      "    no  si\n",
      "no  41   7\n",
      "si   7  33\n",
      "    no  si\n",
      "no  50   4\n",
      "si   5  29\n",
      "    no  si\n",
      "no  49   4\n",
      "si   9  26\n",
      "    no  si\n",
      "no  41   7\n",
      "si   8  32\n",
      "    no  si\n",
      "no  48   4\n",
      "si   8  28\n",
      "    no  si\n",
      "no  44   5\n",
      "si   8  31\n",
      "    no  si\n",
      "no  47   5\n",
      "si   7  29\n",
      "    no  si\n",
      "no  44   4\n",
      "si   6  34\n",
      "    no  si\n",
      "no  38   9\n",
      "si   8  33\n"
     ]
    }
   ],
   "source": [
    "for i in range(len(RES)):\n",
    "    print(RES[i][0])"
   ]
  },
  {
   "cell_type": "code",
   "execution_count": null,
   "metadata": {
    "collapsed": true
   },
   "outputs": [],
   "source": []
  },
  {
   "cell_type": "markdown",
   "metadata": {},
   "source": [
    "## voy a ver el resultado del modelo con el scalado q hace JuanCB"
   ]
  },
  {
   "cell_type": "markdown",
   "metadata": {},
   "source": [
    "este es el código de Juan:"
   ]
  },
  {
   "cell_type": "markdown",
   "metadata": {},
   "source": [
    "dataTrain = dataTrain.fillna(dataTrain.mean())\n",
    "\n",
    "dataTest = dataTest.replace('?', np.nan)\n",
    "dataTest = dataTest.fillna(dataTest.mean())\n",
    "dataTest = dataTest.dropna()\n",
    "\n",
    "list_features = list(dataTrain)\n",
    "variable2predict = 'num'\n",
    "\n",
    "list_features.remove(variable2predict)\n",
    "#display(columnas)\n",
    "\n",
    "features_gen = pd.Index(list_features)\n",
    "display(features_gen)\n",
    "\n",
    "dataTotal = dataTrain[features_gen].append(dataTest[features_gen])\n",
    "\n",
    "dataTotal = pd.DataFrame(scale(dataTotal))\n",
    "\n",
    "train_X = dataTotal[0:dataTrain.shape[0]].as_matrix()\n",
    "test_X = dataTotal[dataTrain.shape[0]::].as_matrix()\n",
    "train_y = dataTrain['num']\n",
    "\n",
    "model = xgb.XGBClassifier(max_depth=3, n_estimators=300, learning_rate=0.05).fit(train_X, train_y)\n",
    "predictions = model.predict(test_X)"
   ]
  },
  {
   "cell_type": "code",
   "execution_count": null,
   "metadata": {},
   "outputs": [],
   "source": [
    "dataTrain = train.fillna(train.mean())\n",
    "\n",
    "dataTest = test.replace('?', np.nan) \n",
    "dataTest = dataTest.fillna(test.mean()) \n",
    "dataTest = dataTest.dropna()\n",
    "\n",
    "nrow = dataTrain.shape[0]\n",
    "for i in range(nrow):\n",
    "    if dataTrain['num'][i] != 0:\n",
    "        dataTrain.loc[i,'num'] = 1\n",
    "        \n",
    "list_features = list(dataTrain) \n",
    "variable2predict = 'num'\n",
    "\n",
    "list_features.remove(variable2predict)\n",
    "\n",
    "#display(columnas)\n",
    "\n",
    "features_gen = pd.Index(list_features) \n",
    "\n",
    "from sklearn.preprocessing import scale\n",
    "dataTotal = dataTrain[features_gen].append(dataTest[features_gen])\n",
    "\n",
    "dataTotal = pd.DataFrame(scale(dataTotal))\n",
    "\n",
    "train_X = dataTotal[0:dataTrain.shape[0]].as_matrix()\n",
    "test_X = dataTotal[dataTrain.shape[0]::].as_matrix()\n",
    "train_y = dataTrain['num']\n",
    "\n",
    "def traintest_juan (porcentaje, iteraciones):\n",
    "    results = []\n",
    "    for i in range(iteraciones):\n",
    "        # dividimos en train-test  \n",
    "        X_train, X_test, y_train, y_test = train_test_split(X, y, test_size= porcentaje)#quitamos el random_state\n",
    "\n",
    "        # lanzamos modelo\n",
    "        gnb = GaussianNB()\n",
    "        y_pred = gnb.fit(X_train, y_train).predict(X_test)\n",
    "\n",
    "        # Compute confusion matrix\n",
    "        cnf_matrix = confusion_matrix(y_test, y_pred)\n",
    "\n",
    "        # guardamos matriz\n",
    "        matriz = pd.DataFrame(cnf_matrix,columns=['no','si'], index=['no','si'])\n",
    "\n",
    "        results.append([matriz, y_pred, y_test, X_test, y_train, X_train])\n",
    "    return results\n",
    "    \n",
    "RES2 = traintest_juan(0.33,10)\n",
    "\n",
    "    "
   ]
  },
  {
   "cell_type": "code",
   "execution_count": null,
   "metadata": {
    "collapsed": true
   },
   "outputs": [],
   "source": [
    "for i in range(len(RES)):\n",
    "    print(RES2[i][0] +  RES[i][0]) # me ha dado un salto para comparar"
   ]
  },
  {
   "cell_type": "code",
   "execution_count": null,
   "metadata": {},
   "outputs": [],
   "source": [
    "\n"
   ]
  },
  {
   "cell_type": "code",
   "execution_count": null,
   "metadata": {},
   "outputs": [],
   "source": []
  },
  {
   "cell_type": "code",
   "execution_count": null,
   "metadata": {
    "collapsed": true
   },
   "outputs": [],
   "source": []
  },
  {
   "cell_type": "code",
   "execution_count": null,
   "metadata": {
    "collapsed": true
   },
   "outputs": [],
   "source": []
  },
  {
   "cell_type": "code",
   "execution_count": null,
   "metadata": {},
   "outputs": [],
   "source": [
    "matriz"
   ]
  }
 ],
 "metadata": {
  "kernelspec": {
   "display_name": "Python 3",
   "language": "python",
   "name": "python3"
  },
  "language_info": {
   "codemirror_mode": {
    "name": "ipython",
    "version": 3
   },
   "file_extension": ".py",
   "mimetype": "text/x-python",
   "name": "python",
   "nbconvert_exporter": "python",
   "pygments_lexer": "ipython3",
   "version": "3.6.1"
  }
 },
 "nbformat": 4,
 "nbformat_minor": 2
}
